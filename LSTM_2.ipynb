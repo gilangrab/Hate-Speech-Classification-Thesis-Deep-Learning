{
 "cells": [
  {
   "cell_type": "code",
   "execution_count": 3,
   "id": "aea153a8-e598-45e7-9286-d7682763f1bf",
   "metadata": {},
   "outputs": [],
   "source": [
    "import numpy as np\n",
    "import pandas as pd\n",
    "from sklearn.model_selection import train_test_split\n",
    "from tensorflow.keras.preprocessing.text import Tokenizer\n",
    "from tensorflow.keras.preprocessing.sequence import pad_sequences\n",
    "from tensorflow.keras.models import Sequential\n",
    "from tensorflow.keras.layers import Embedding, LSTM, Dense, SpatialDropout1D\n",
    "from tensorflow.keras.callbacks import EarlyStopping"
   ]
  },
  {
   "cell_type": "code",
   "execution_count": 4,
   "id": "049b0a1f-8da2-44b6-b875-20d2701289ee",
   "metadata": {},
   "outputs": [],
   "source": [
    "df = pd.read_csv(\"data_after_cleansing_normalized.csv\")"
   ]
  },
  {
   "cell_type": "code",
   "execution_count": 6,
   "id": "08631c06-e92a-41ee-8d19-c70775a85ded",
   "metadata": {},
   "outputs": [
    {
     "data": {
      "text/html": [
       "<div>\n",
       "<style scoped>\n",
       "    .dataframe tbody tr th:only-of-type {\n",
       "        vertical-align: middle;\n",
       "    }\n",
       "\n",
       "    .dataframe tbody tr th {\n",
       "        vertical-align: top;\n",
       "    }\n",
       "\n",
       "    .dataframe thead th {\n",
       "        text-align: right;\n",
       "    }\n",
       "</style>\n",
       "<table border=\"1\" class=\"dataframe\">\n",
       "  <thead>\n",
       "    <tr style=\"text-align: right;\">\n",
       "      <th></th>\n",
       "      <th>Tweet</th>\n",
       "      <th>HS</th>\n",
       "      <th>normalized_tweet</th>\n",
       "      <th>clean_tweet</th>\n",
       "    </tr>\n",
       "  </thead>\n",
       "  <tbody>\n",
       "    <tr>\n",
       "      <th>0</th>\n",
       "      <td>- disaat semua cowok berusaha melacak perhatia...</td>\n",
       "      <td>1</td>\n",
       "      <td>- di saat semua pria berusaha melacak perhatia...</td>\n",
       "      <td>di saat semua pria berusaha melacak perhatian...</td>\n",
       "    </tr>\n",
       "    <tr>\n",
       "      <th>1</th>\n",
       "      <td>RT USER: USER siapa yang telat ngasih tau elu?...</td>\n",
       "      <td>0</td>\n",
       "      <td>RT USER: USER siapa  telat memberi tau elu?eda...</td>\n",
       "      <td>rt user user siapa telat memberi tau eluedan s...</td>\n",
       "    </tr>\n",
       "    <tr>\n",
       "      <th>2</th>\n",
       "      <td>41. Kadang aku berfikir, kenapa aku tetap perc...</td>\n",
       "      <td>0</td>\n",
       "      <td>41. Kadang aku berfikir, kenapa aku tetap perc...</td>\n",
       "      <td>kadang aku berfikir kenapa aku tetap percaya ...</td>\n",
       "    </tr>\n",
       "    <tr>\n",
       "      <th>3</th>\n",
       "      <td>USER USER AKU ITU AKU\\n\\nKU TAU MATAMU SIPIT T...</td>\n",
       "      <td>0</td>\n",
       "      <td>USER USER AKU ITU AKU\\n\\nKU TAU MATAMU SIPIT T...</td>\n",
       "      <td>user user aku itu akunnku tau matamu sipit tap...</td>\n",
       "    </tr>\n",
       "    <tr>\n",
       "      <th>4</th>\n",
       "      <td>USER USER Kaum cebong kapir udah keliatan dong...</td>\n",
       "      <td>1</td>\n",
       "      <td>USER USER Kaum kecebong kafir sudah kelihatan ...</td>\n",
       "      <td>user user kaum kecebong kafir sudah kelihatan ...</td>\n",
       "    </tr>\n",
       "  </tbody>\n",
       "</table>\n",
       "</div>"
      ],
      "text/plain": [
       "                                               Tweet  HS  \\\n",
       "0  - disaat semua cowok berusaha melacak perhatia...   1   \n",
       "1  RT USER: USER siapa yang telat ngasih tau elu?...   0   \n",
       "2  41. Kadang aku berfikir, kenapa aku tetap perc...   0   \n",
       "3  USER USER AKU ITU AKU\\n\\nKU TAU MATAMU SIPIT T...   0   \n",
       "4  USER USER Kaum cebong kapir udah keliatan dong...   1   \n",
       "\n",
       "                                    normalized_tweet  \\\n",
       "0  - di saat semua pria berusaha melacak perhatia...   \n",
       "1  RT USER: USER siapa  telat memberi tau elu?eda...   \n",
       "2  41. Kadang aku berfikir, kenapa aku tetap perc...   \n",
       "3  USER USER AKU ITU AKU\\n\\nKU TAU MATAMU SIPIT T...   \n",
       "4  USER USER Kaum kecebong kafir sudah kelihatan ...   \n",
       "\n",
       "                                         clean_tweet  \n",
       "0   di saat semua pria berusaha melacak perhatian...  \n",
       "1  rt user user siapa telat memberi tau eluedan s...  \n",
       "2   kadang aku berfikir kenapa aku tetap percaya ...  \n",
       "3  user user aku itu akunnku tau matamu sipit tap...  \n",
       "4  user user kaum kecebong kafir sudah kelihatan ...  "
      ]
     },
     "execution_count": 6,
     "metadata": {},
     "output_type": "execute_result"
    }
   ],
   "source": [
    "df.head()"
   ]
  },
  {
   "cell_type": "code",
   "execution_count": 8,
   "id": "03c66d4c-15ab-42b5-bbe2-df253b6a1109",
   "metadata": {},
   "outputs": [],
   "source": [
    "X = df['clean_tweet'] #Text\n",
    "y = df['HS'] #Label\n",
    "# Train-test split\n",
    "X_train, X_test, y_train, y_test = train_test_split(X, y, test_size=0.2, random_state=42)"
   ]
  },
  {
   "cell_type": "code",
   "execution_count": 9,
   "id": "6649252d-d4c8-4ea9-9622-147a9d7201fb",
   "metadata": {},
   "outputs": [],
   "source": [
    "# Tokenisasi teks\n",
    "max_words = 5000\n",
    "tokenizer = Tokenizer(num_words=max_words, oov_token='<OOV>')\n",
    "tokenizer.fit_on_texts(X_train)"
   ]
  },
  {
   "cell_type": "code",
   "execution_count": 10,
   "id": "176e9ac8-f1a9-4445-a544-8047b2ca50b8",
   "metadata": {},
   "outputs": [],
   "source": [
    "# Mengonversi teks ke dalam sequence\n",
    "X_train_seq = tokenizer.texts_to_sequences(X_train)\n",
    "X_test_seq = tokenizer.texts_to_sequences(X_test)"
   ]
  },
  {
   "cell_type": "code",
   "execution_count": 11,
   "id": "dd57355a-54aa-48d5-a460-db9e94bfcfa1",
   "metadata": {},
   "outputs": [],
   "source": [
    "# Padding sequence agar memiliki panjang yang sama\n",
    "maxlen = 100\n",
    "X_train_pad = pad_sequences(X_train_seq, maxlen=maxlen, padding='post')\n",
    "X_test_pad = pad_sequences(X_test_seq, maxlen=maxlen, padding='post')"
   ]
  },
  {
   "cell_type": "code",
   "execution_count": 24,
   "id": "41a39250-dd2c-4976-bb29-7ef5a2c650c9",
   "metadata": {},
   "outputs": [],
   "source": [
    "# Membangun model LSTM\n",
    "embedding_dim = 64\n",
    "lstm_units = 64\n",
    "\n",
    "model = Sequential()\n",
    "model.add(Embedding(input_dim=max_words, output_dim=embedding_dim, input_length=maxlen))\n",
    "model.add(SpatialDropout1D(0.2))\n",
    "model.add(LSTM(units=lstm_units, dropout=0.2, recurrent_dropout=0.2))\n",
    "model.add(Dense(64, activation=\"relu\"))\n",
    "model.add(Dense(1, activation='sigmoid'))"
   ]
  },
  {
   "cell_type": "code",
   "execution_count": 25,
   "id": "2fb786ca-6653-46cb-a2c7-b50a74bd3f4b",
   "metadata": {},
   "outputs": [],
   "source": [
    "model.compile(optimizer='adam', loss='binary_crossentropy', metrics=['accuracy'])"
   ]
  },
  {
   "cell_type": "code",
   "execution_count": 26,
   "id": "230d374c-5037-48b1-907e-6078f5f65b9d",
   "metadata": {},
   "outputs": [
    {
     "name": "stdout",
     "output_type": "stream",
     "text": [
      "Epoch 1/15\n",
      "58/58 [==============================] - 19s 290ms/step - loss: 0.6759 - accuracy: 0.5967 - val_loss: 0.6775 - val_accuracy: 0.5889\n",
      "Epoch 2/15\n",
      "58/58 [==============================] - 18s 303ms/step - loss: 0.6747 - accuracy: 0.5966 - val_loss: 0.6775 - val_accuracy: 0.5889\n",
      "Epoch 3/15\n",
      "58/58 [==============================] - 22s 383ms/step - loss: 0.6743 - accuracy: 0.5966 - val_loss: 0.6773 - val_accuracy: 0.5889\n",
      "Epoch 4/15\n",
      "58/58 [==============================] - 22s 376ms/step - loss: 0.6751 - accuracy: 0.5966 - val_loss: 0.6777 - val_accuracy: 0.5889\n",
      "Epoch 5/15\n",
      "58/58 [==============================] - 22s 373ms/step - loss: 0.6751 - accuracy: 0.5966 - val_loss: 0.6779 - val_accuracy: 0.5889\n",
      "Epoch 6/15\n",
      "58/58 [==============================] - 18s 310ms/step - loss: 0.6746 - accuracy: 0.5966 - val_loss: 0.6775 - val_accuracy: 0.5889\n"
     ]
    }
   ],
   "source": [
    "# Training model\n",
    "epochs = 15\n",
    "batch_size = 256\n",
    "\n",
    "history = model.fit(X_train_pad, y_train, \n",
    "                    epochs=epochs, batch_size=batch_size, \n",
    "                    validation_data=(X_test_pad, y_test), callbacks=[EarlyStopping(monitor='val_loss', patience=3, min_delta=0.0001)])"
   ]
  },
  {
   "cell_type": "code",
   "execution_count": 28,
   "id": "b3fe5b68-cc12-4a3d-8f90-923133624f0c",
   "metadata": {},
   "outputs": [
    {
     "name": "stdout",
     "output_type": "stream",
     "text": [
      "115/115 [==============================] - 1s 9ms/step\n"
     ]
    }
   ],
   "source": [
    "# Prediksi\n",
    "y_pred_prob = model.predict(X_test_pad)\n",
    "y_pred = (y_pred_prob > 0.5).astype(int)  # Ambil kelas dengan probabilitas > 0.5"
   ]
  },
  {
   "cell_type": "code",
   "execution_count": 29,
   "id": "d6fb264e-57d8-43f3-94f1-9d7735f1779f",
   "metadata": {},
   "outputs": [
    {
     "name": "stdout",
     "output_type": "stream",
     "text": [
      "115/115 [==============================] - 1s 10ms/step - loss: 0.6775 - accuracy: 0.5889\n",
      "Test Accuracy: 0.5888587236404419\n"
     ]
    }
   ],
   "source": [
    "# Evaluasi model\n",
    "loss, accuracy = model.evaluate(X_test_pad, y_test)\n",
    "print(f'Test Accuracy: {accuracy}')"
   ]
  }
 ],
 "metadata": {
  "kernelspec": {
   "display_name": "Python 3 (ipykernel)",
   "language": "python",
   "name": "python3"
  },
  "language_info": {
   "codemirror_mode": {
    "name": "ipython",
    "version": 3
   },
   "file_extension": ".py",
   "mimetype": "text/x-python",
   "name": "python",
   "nbconvert_exporter": "python",
   "pygments_lexer": "ipython3",
   "version": "3.11.2"
  }
 },
 "nbformat": 4,
 "nbformat_minor": 5
}
