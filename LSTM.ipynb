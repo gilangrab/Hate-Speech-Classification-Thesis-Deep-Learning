{
 "cells": [
  {
   "cell_type": "code",
   "execution_count": 4,
   "id": "97c6e03e-6d98-428f-816f-8225ede7f9ba",
   "metadata": {},
   "outputs": [],
   "source": [
    "import numpy as np\n",
    "import pandas as pd\n",
    "from sklearn.model_selection import train_test_split\n",
    "from gensim.models import FastText\n",
    "from keras.utils import pad_sequences\n",
    "from keras.models import Sequential\n",
    "from keras.layers import Embedding, LSTM, Dense"
   ]
  },
  {
   "cell_type": "code",
   "execution_count": 5,
   "id": "88673512-243a-49fc-8ee6-a15ef201e068",
   "metadata": {},
   "outputs": [],
   "source": [
    "df = pd.read_csv(\"data_after_cleansing_normalized.csv\")"
   ]
  },
  {
   "cell_type": "code",
   "execution_count": 6,
   "id": "e277c110-a319-494e-8800-a060ec82ac3d",
   "metadata": {},
   "outputs": [
    {
     "data": {
      "text/html": [
       "<div>\n",
       "<style scoped>\n",
       "    .dataframe tbody tr th:only-of-type {\n",
       "        vertical-align: middle;\n",
       "    }\n",
       "\n",
       "    .dataframe tbody tr th {\n",
       "        vertical-align: top;\n",
       "    }\n",
       "\n",
       "    .dataframe thead th {\n",
       "        text-align: right;\n",
       "    }\n",
       "</style>\n",
       "<table border=\"1\" class=\"dataframe\">\n",
       "  <thead>\n",
       "    <tr style=\"text-align: right;\">\n",
       "      <th></th>\n",
       "      <th>Tweet</th>\n",
       "      <th>HS</th>\n",
       "      <th>normalized_tweet</th>\n",
       "      <th>clean_tweet</th>\n",
       "    </tr>\n",
       "  </thead>\n",
       "  <tbody>\n",
       "    <tr>\n",
       "      <th>0</th>\n",
       "      <td>- disaat semua cowok berusaha melacak perhatia...</td>\n",
       "      <td>1</td>\n",
       "      <td>- di saat semua pria berusaha melacak perhatia...</td>\n",
       "      <td>di saat semua pria berusaha melacak perhatian...</td>\n",
       "    </tr>\n",
       "    <tr>\n",
       "      <th>1</th>\n",
       "      <td>RT USER: USER siapa yang telat ngasih tau elu?...</td>\n",
       "      <td>0</td>\n",
       "      <td>RT USER: USER siapa  telat memberi tau elu?eda...</td>\n",
       "      <td>rt user user siapa telat memberi tau eluedan s...</td>\n",
       "    </tr>\n",
       "    <tr>\n",
       "      <th>2</th>\n",
       "      <td>41. Kadang aku berfikir, kenapa aku tetap perc...</td>\n",
       "      <td>0</td>\n",
       "      <td>41. Kadang aku berfikir, kenapa aku tetap perc...</td>\n",
       "      <td>kadang aku berfikir kenapa aku tetap percaya ...</td>\n",
       "    </tr>\n",
       "    <tr>\n",
       "      <th>3</th>\n",
       "      <td>USER USER AKU ITU AKU\\n\\nKU TAU MATAMU SIPIT T...</td>\n",
       "      <td>0</td>\n",
       "      <td>USER USER AKU ITU AKU\\n\\nKU TAU MATAMU SIPIT T...</td>\n",
       "      <td>user user aku itu akunnku tau matamu sipit tap...</td>\n",
       "    </tr>\n",
       "    <tr>\n",
       "      <th>4</th>\n",
       "      <td>USER USER Kaum cebong kapir udah keliatan dong...</td>\n",
       "      <td>1</td>\n",
       "      <td>USER USER Kaum kecebong kafir sudah kelihatan ...</td>\n",
       "      <td>user user kaum kecebong kafir sudah kelihatan ...</td>\n",
       "    </tr>\n",
       "  </tbody>\n",
       "</table>\n",
       "</div>"
      ],
      "text/plain": [
       "                                               Tweet  HS  \\\n",
       "0  - disaat semua cowok berusaha melacak perhatia...   1   \n",
       "1  RT USER: USER siapa yang telat ngasih tau elu?...   0   \n",
       "2  41. Kadang aku berfikir, kenapa aku tetap perc...   0   \n",
       "3  USER USER AKU ITU AKU\\n\\nKU TAU MATAMU SIPIT T...   0   \n",
       "4  USER USER Kaum cebong kapir udah keliatan dong...   1   \n",
       "\n",
       "                                    normalized_tweet  \\\n",
       "0  - di saat semua pria berusaha melacak perhatia...   \n",
       "1  RT USER: USER siapa  telat memberi tau elu?eda...   \n",
       "2  41. Kadang aku berfikir, kenapa aku tetap perc...   \n",
       "3  USER USER AKU ITU AKU\\n\\nKU TAU MATAMU SIPIT T...   \n",
       "4  USER USER Kaum kecebong kafir sudah kelihatan ...   \n",
       "\n",
       "                                         clean_tweet  \n",
       "0   di saat semua pria berusaha melacak perhatian...  \n",
       "1  rt user user siapa telat memberi tau eluedan s...  \n",
       "2   kadang aku berfikir kenapa aku tetap percaya ...  \n",
       "3  user user aku itu akunnku tau matamu sipit tap...  \n",
       "4  user user kaum kecebong kafir sudah kelihatan ...  "
      ]
     },
     "execution_count": 6,
     "metadata": {},
     "output_type": "execute_result"
    }
   ],
   "source": [
    "df.head()"
   ]
  },
  {
   "cell_type": "code",
   "execution_count": 7,
   "id": "378bad9d-cfca-453b-9c57-c1d063240d42",
   "metadata": {},
   "outputs": [],
   "source": [
    "X = df['clean_tweet'] #Text\n",
    "y = df['HS'] #Label\n",
    "X_train, X_test, y_train, y_test = train_test_split(X, y, test_size=0.2, random_state=42)"
   ]
  },
  {
   "cell_type": "markdown",
   "id": "fe642a13-512a-4123-b52c-87ac10c18794",
   "metadata": {},
   "source": [
    "#### Fast Text\n",
    "**embedding_size** adalah dimensi dari vektor fitur yang dihasilkan oleh model FastText. Nilai ini menentukan berapa banyak dimensi yang digunakan untuk merepresentasikan setiap kata dalam ruang vektor.\n",
    "\n",
    "**window_size** adalah parameter yang menentukan jumlah kata yang dipertimbangkan oleh model saat melihat konteks sebuah kata. Misalnya, jika window_size diatur ke 5, itu berarti model akan mempertimbangkan 5 kata sebelum dan sesudah kata yang sedang diproses saat membangun representasi vektor untuk kata tersebut.\n",
    "\n",
    "**min_word** adalah ambang batas yang menentukan jumlah minimum kemunculan kata dalam korpus teks. Kata-kata yang kurang dari jumlah minimum ini tidak akan dipertimbangkan dalam pembentukan vektor.\n",
    "\n",
    "**down_sampling** adalah parameter yang mengendalikan proses pengurangan frekuensi kata dalam model untuk mengurangi bobot kata yang sangat sering muncul"
   ]
  },
  {
   "cell_type": "code",
   "execution_count": 8,
   "id": "6d8933b5-0fe6-483e-88b0-848d50328955",
   "metadata": {},
   "outputs": [],
   "source": [
    "# FastText untuk ekspansi fitur\n",
    "embedding_size = 100\n",
    "window_size = 5\n",
    "min_word = 5\n",
    "down_sampling = 1e-2\n",
    "fasttext_model = FastText(sentences=X_train, vector_size=embedding_size, window=window_size, min_count=min_word, sample=down_sampling)"
   ]
  },
  {
   "cell_type": "code",
   "execution_count": 9,
   "id": "ec97168b-d984-400c-b62a-91b4daf6ffce",
   "metadata": {},
   "outputs": [],
   "source": [
    "# Tokenisasi teks dan lakukan padding\n",
    "max_len = 100 # Panjang maksimum dari setiap kalimat\n",
    "X_train_seq = [[fasttext_model.wv[word] for word in sentence.split() if word in fasttext_model.wv] for sentence in X_train]\n",
    "X_test_seq = [[fasttext_model.wv[word] for word in sentence.split() if word in fasttext_model.wv] for sentence in X_test]\n",
    "X_train_pad = pad_sequences(X_train_seq, maxlen=max_len, dtype='float32')\n",
    "X_test_pad = pad_sequences(X_test_seq, maxlen=max_len, dtype='float32')"
   ]
  },
  {
   "cell_type": "code",
   "execution_count": 10,
   "id": "6e23df2f-ef1e-4d6c-bd73-24e2559aa3fc",
   "metadata": {},
   "outputs": [],
   "source": [
    "# Model LSTM\n",
    "model = Sequential()\n",
    "model.add(LSTM(128, input_shape=(max_len, embedding_size)))\n",
    "model.add(Dense(1, activation='sigmoid'))"
   ]
  },
  {
   "cell_type": "code",
   "execution_count": 11,
   "id": "92d4f674-ea70-4c68-ad60-6b8491091ef6",
   "metadata": {},
   "outputs": [],
   "source": [
    "# Kompilasi model\n",
    "model.compile(optimizer='adam', loss='binary_crossentropy', metrics=['accuracy'])"
   ]
  },
  {
   "cell_type": "code",
   "execution_count": 12,
   "id": "f2837bc0-37ca-45e0-808f-387b3fa9f699",
   "metadata": {},
   "outputs": [
    {
     "name": "stdout",
     "output_type": "stream",
     "text": [
      "Epoch 1/10\n",
      "414/414 [==============================] - 24s 53ms/step - loss: 0.6736 - accuracy: 0.5960 - val_loss: 0.6741 - val_accuracy: 0.5849\n",
      "Epoch 2/10\n",
      "414/414 [==============================] - 23s 55ms/step - loss: 0.6720 - accuracy: 0.5973 - val_loss: 0.6729 - val_accuracy: 0.5856\n",
      "Epoch 3/10\n",
      "414/414 [==============================] - 23s 55ms/step - loss: 0.6712 - accuracy: 0.5978 - val_loss: 0.6712 - val_accuracy: 0.5863\n",
      "Epoch 4/10\n",
      "414/414 [==============================] - 24s 57ms/step - loss: 0.6707 - accuracy: 0.5981 - val_loss: 0.6724 - val_accuracy: 0.5842\n",
      "Epoch 5/10\n",
      "414/414 [==============================] - 23s 57ms/step - loss: 0.6701 - accuracy: 0.5982 - val_loss: 0.6715 - val_accuracy: 0.5849\n",
      "Epoch 6/10\n",
      "414/414 [==============================] - 23s 56ms/step - loss: 0.6697 - accuracy: 0.5980 - val_loss: 0.6730 - val_accuracy: 0.5842\n",
      "Epoch 7/10\n",
      "414/414 [==============================] - 23s 56ms/step - loss: 0.6692 - accuracy: 0.5982 - val_loss: 0.6714 - val_accuracy: 0.5842\n",
      "Epoch 8/10\n",
      "414/414 [==============================] - 23s 56ms/step - loss: 0.6683 - accuracy: 0.5987 - val_loss: 0.6705 - val_accuracy: 0.5870\n",
      "Epoch 9/10\n",
      "414/414 [==============================] - 23s 56ms/step - loss: 0.6679 - accuracy: 0.5994 - val_loss: 0.6700 - val_accuracy: 0.5842\n",
      "Epoch 10/10\n",
      "414/414 [==============================] - 23s 56ms/step - loss: 0.6668 - accuracy: 0.6003 - val_loss: 0.6702 - val_accuracy: 0.5856\n"
     ]
    },
    {
     "data": {
      "text/plain": [
       "<keras.callbacks.History at 0x217fa9a6490>"
      ]
     },
     "execution_count": 12,
     "metadata": {},
     "output_type": "execute_result"
    }
   ],
   "source": [
    "model.fit(X_train_pad, y_train, epochs=10, batch_size=32, validation_split=0.1)"
   ]
  },
  {
   "cell_type": "code",
   "execution_count": 13,
   "id": "fca942de-e1a7-41a2-89d3-6ca88a2eb72f",
   "metadata": {},
   "outputs": [
    {
     "name": "stdout",
     "output_type": "stream",
     "text": [
      "115/115 [==============================] - 2s 21ms/step - loss: 0.6745 - accuracy: 0.5891\n",
      "Test Accuracy: 0.5891304612159729\n"
     ]
    }
   ],
   "source": [
    "# Evaluasi model pada data uji\n",
    "loss, accuracy = model.evaluate(X_test_pad, y_test)\n",
    "print(\"Test Accuracy:\", accuracy)"
   ]
  },
  {
   "cell_type": "code",
   "execution_count": 14,
   "id": "11c8e326-8681-4c71-a5f1-b63fb69cb5e0",
   "metadata": {},
   "outputs": [
    {
     "name": "stdout",
     "output_type": "stream",
     "text": [
      "115/115 [==============================] - 3s 21ms/step\n"
     ]
    }
   ],
   "source": [
    "# Prediksi pada data uji\n",
    "predictions = model.predict(X_test_pad)"
   ]
  },
  {
   "cell_type": "code",
   "execution_count": 16,
   "id": "df486dec-b0ab-4990-8b05-a33ca9d6bace",
   "metadata": {},
   "outputs": [],
   "source": [
    "# Ambil label prediksi (dibulatkan menjadi 0 atau 1)\n",
    "y_pred = np.round(predictions).flatten()"
   ]
  },
  {
   "cell_type": "code",
   "execution_count": 17,
   "id": "aee44a61-80c8-40ab-8f76-3099d4926f04",
   "metadata": {},
   "outputs": [
    {
     "name": "stdout",
     "output_type": "stream",
     "text": [
      "\n",
      "Classification Report\n",
      "\n",
      "              precision    recall  f1-score   support\n",
      "\n",
      "           0       0.59      0.99      0.74      2167\n",
      "           1       0.52      0.01      0.02      1513\n",
      "\n",
      "    accuracy                           0.59      3680\n",
      "   macro avg       0.55      0.50      0.38      3680\n",
      "weighted avg       0.56      0.59      0.44      3680\n",
      "\n"
     ]
    }
   ],
   "source": [
    "from sklearn.metrics import classification_report\n",
    "print('\\nClassification Report\\n')\n",
    "print(classification_report(y_test, y_pred, target_names=['0','1']))"
   ]
  },
  {
   "cell_type": "markdown",
   "id": "42cddd67-75fa-4f9a-b1e6-eb90a94aa22d",
   "metadata": {},
   "source": [
    "#### tunning parameter"
   ]
  },
  {
   "cell_type": "code",
   "execution_count": null,
   "id": "13e9a899-1f22-4af6-9138-4e6980d3f446",
   "metadata": {},
   "outputs": [],
   "source": [
    "========="
   ]
  },
  {
   "cell_type": "code",
   "execution_count": 18,
   "id": "0293b27e-fa2b-40f1-9669-02fd4e4fc2fc",
   "metadata": {},
   "outputs": [],
   "source": [
    "from sklearn.model_selection import GridSearchCV\n",
    "from keras.wrappers.scikit_learn import KerasClassifier"
   ]
  },
  {
   "cell_type": "code",
   "execution_count": 19,
   "id": "387fbec1-f82b-4759-8268-16147d93476a",
   "metadata": {},
   "outputs": [],
   "source": [
    "def create_model(units=128, dropout_rate=0.2):\n",
    "    model = Sequential()\n",
    "    model.add(LSTM(units, input_shape=(max_len, embedding_size)))\n",
    "    model.add(Dense(1, activation='sigmoid'))\n",
    "    model.compile(optimizer='adam', loss='binary_crossentropy', metrics=['accuracy'])\n",
    "    return model"
   ]
  },
  {
   "cell_type": "code",
   "execution_count": 20,
   "id": "b0fea2a8-566a-47c8-837a-fde11bf89fc4",
   "metadata": {},
   "outputs": [
    {
     "name": "stderr",
     "output_type": "stream",
     "text": [
      "C:\\Users\\gilan\\AppData\\Local\\Temp\\ipykernel_16392\\2534670821.py:2: DeprecationWarning: KerasClassifier is deprecated, use Sci-Keras (https://github.com/adriangb/scikeras) instead. See https://www.adriangb.com/scikeras/stable/migration.html for help migrating.\n",
      "  model = KerasClassifier(build_fn=create_model)\n"
     ]
    }
   ],
   "source": [
    "# Membuat model Keras Classifier untuk digunakan dalam GridSearchCV\n",
    "model = KerasClassifier(build_fn=create_model)"
   ]
  },
  {
   "cell_type": "code",
   "execution_count": 21,
   "id": "5139e1d8-2bde-41ec-b7a7-c02e0b7fa0e8",
   "metadata": {},
   "outputs": [],
   "source": [
    "# Parameter yang akan diuji\n",
    "parameters = {\n",
    "    'units': [64, 128, 256],\n",
    "    'dropout_rate': [0.2, 0.3, 0.4]\n",
    "}"
   ]
  },
  {
   "cell_type": "code",
   "execution_count": 22,
   "id": "693d03dd-a173-4ab8-900a-842dd627ae16",
   "metadata": {},
   "outputs": [],
   "source": [
    "# Membuat objek GridSearchCV\n",
    "grid_search = GridSearchCV(estimator=model, param_grid=parameters, cv=3)"
   ]
  },
  {
   "cell_type": "code",
   "execution_count": 23,
   "id": "1483585d-896a-409a-a224-2ba88df2b9b8",
   "metadata": {},
   "outputs": [
    {
     "name": "stdout",
     "output_type": "stream",
     "text": [
      "307/307 [==============================] - 10s 26ms/step - loss: 0.6745 - accuracy: 0.5942\n",
      "154/154 [==============================] - 2s 11ms/step - loss: 0.6739 - accuracy: 0.5989\n",
      "307/307 [==============================] - 10s 27ms/step - loss: 0.6738 - accuracy: 0.5965\n",
      "154/154 [==============================] - 3s 13ms/step - loss: 0.6707 - accuracy: 0.5959\n",
      "307/307 [==============================] - 11s 30ms/step - loss: 0.6726 - accuracy: 0.5961\n",
      "154/154 [==============================] - 2s 12ms/step - loss: 0.6710 - accuracy: 0.5955\n",
      "307/307 [==============================] - 18s 55ms/step - loss: 0.6744 - accuracy: 0.5941\n",
      "154/154 [==============================] - 4s 21ms/step - loss: 0.6739 - accuracy: 0.5980\n",
      "307/307 [==============================] - 20s 61ms/step - loss: 0.6744 - accuracy: 0.5941\n",
      "154/154 [==============================] - 4s 23ms/step - loss: 0.6742 - accuracy: 0.5959\n",
      "307/307 [==============================] - 19s 56ms/step - loss: 0.6741 - accuracy: 0.5963\n",
      "154/154 [==============================] - 4s 23ms/step - loss: 0.6722 - accuracy: 0.5955\n",
      "307/307 [==============================] - 107s 340ms/step - loss: 0.6741 - accuracy: 0.5937\n",
      "154/154 [==============================] - 14s 90ms/step - loss: 0.6718 - accuracy: 0.5987\n",
      "307/307 [==============================] - 114s 364ms/step - loss: 0.6754 - accuracy: 0.5938\n",
      "154/154 [==============================] - 16s 97ms/step - loss: 0.6718 - accuracy: 0.5959\n",
      "307/307 [==============================] - 100s 320ms/step - loss: 0.6742 - accuracy: 0.5958\n",
      "154/154 [==============================] - 15s 93ms/step - loss: 0.6738 - accuracy: 0.5947\n",
      "307/307 [==============================] - 15s 43ms/step - loss: 0.6740 - accuracy: 0.5941\n",
      "154/154 [==============================] - 3s 18ms/step - loss: 0.6719 - accuracy: 0.5982\n",
      "307/307 [==============================] - 15s 40ms/step - loss: 0.6737 - accuracy: 0.5947\n",
      "154/154 [==============================] - 3s 17ms/step - loss: 0.6706 - accuracy: 0.5959\n",
      "307/307 [==============================] - 24s 72ms/step - loss: 0.6742 - accuracy: 0.5968\n",
      "154/154 [==============================] - 4s 27ms/step - loss: 0.6723 - accuracy: 0.5953\n",
      "307/307 [==============================] - 56s 177ms/step - loss: 0.6748 - accuracy: 0.5938\n",
      "154/154 [==============================] - 8s 50ms/step - loss: 0.6715 - accuracy: 0.5991\n",
      "307/307 [==============================] - 56s 176ms/step - loss: 0.6743 - accuracy: 0.5943\n",
      "154/154 [==============================] - 10s 59ms/step - loss: 0.6716 - accuracy: 0.5957\n",
      "307/307 [==============================] - 43s 134ms/step - loss: 0.6740 - accuracy: 0.5961\n",
      "154/154 [==============================] - 7s 46ms/step - loss: 0.6737 - accuracy: 0.5945\n",
      "307/307 [==============================] - 134s 432ms/step - loss: 0.6756 - accuracy: 0.5927\n",
      "154/154 [==============================] - 15s 97ms/step - loss: 0.6716 - accuracy: 0.5989\n",
      "307/307 [==============================] - 106s 339ms/step - loss: 0.6755 - accuracy: 0.5940\n",
      "154/154 [==============================] - 14s 85ms/step - loss: 0.6711 - accuracy: 0.5957\n",
      "307/307 [==============================] - 168s 539ms/step - loss: 0.6749 - accuracy: 0.5947\n",
      "154/154 [==============================] - 18s 118ms/step - loss: 0.6737 - accuracy: 0.5955\n",
      "307/307 [==============================] - 21s 63ms/step - loss: 0.6740 - accuracy: 0.5930\n",
      "154/154 [==============================] - 5s 27ms/step - loss: 0.6713 - accuracy: 0.5995\n",
      "307/307 [==============================] - 20s 59ms/step - loss: 0.6745 - accuracy: 0.5965\n",
      "154/154 [==============================] - 4s 25ms/step - loss: 0.6709 - accuracy: 0.5953\n",
      "307/307 [==============================] - 19s 55ms/step - loss: 0.6736 - accuracy: 0.5957\n",
      "154/154 [==============================] - 4s 25ms/step - loss: 0.6721 - accuracy: 0.5953\n",
      "307/307 [==============================] - 36s 113ms/step - loss: 0.6742 - accuracy: 0.5928\n",
      "154/154 [==============================] - 6s 39ms/step - loss: 0.6712 - accuracy: 0.5991\n",
      "307/307 [==============================] - 48s 149ms/step - loss: 0.6745 - accuracy: 0.5963\n",
      "154/154 [==============================] - 9s 54ms/step - loss: 0.6714 - accuracy: 0.5955\n",
      "307/307 [==============================] - 46s 142ms/step - loss: 0.6743 - accuracy: 0.5962\n",
      "154/154 [==============================] - 9s 53ms/step - loss: 0.6741 - accuracy: 0.5945\n",
      "307/307 [==============================] - 177s 571ms/step - loss: 0.6754 - accuracy: 0.5932\n",
      "154/154 [==============================] - 17s 109ms/step - loss: 0.6728 - accuracy: 0.5978\n",
      "307/307 [==============================] - 165s 530ms/step - loss: 0.6747 - accuracy: 0.5927\n",
      "154/154 [==============================] - 16s 101ms/step - loss: 0.6722 - accuracy: 0.5953\n",
      "307/307 [==============================] - 134s 432ms/step - loss: 0.6751 - accuracy: 0.5967\n",
      "154/154 [==============================] - 14s 90ms/step - loss: 0.6727 - accuracy: 0.5943\n",
      "460/460 [==============================] - 33s 68ms/step - loss: 0.6732 - accuracy: 0.5962\n"
     ]
    },
    {
     "data": {
      "text/html": [
       "<style>#sk-container-id-1 {color: black;}#sk-container-id-1 pre{padding: 0;}#sk-container-id-1 div.sk-toggleable {background-color: white;}#sk-container-id-1 label.sk-toggleable__label {cursor: pointer;display: block;width: 100%;margin-bottom: 0;padding: 0.3em;box-sizing: border-box;text-align: center;}#sk-container-id-1 label.sk-toggleable__label-arrow:before {content: \"▸\";float: left;margin-right: 0.25em;color: #696969;}#sk-container-id-1 label.sk-toggleable__label-arrow:hover:before {color: black;}#sk-container-id-1 div.sk-estimator:hover label.sk-toggleable__label-arrow:before {color: black;}#sk-container-id-1 div.sk-toggleable__content {max-height: 0;max-width: 0;overflow: hidden;text-align: left;background-color: #f0f8ff;}#sk-container-id-1 div.sk-toggleable__content pre {margin: 0.2em;color: black;border-radius: 0.25em;background-color: #f0f8ff;}#sk-container-id-1 input.sk-toggleable__control:checked~div.sk-toggleable__content {max-height: 200px;max-width: 100%;overflow: auto;}#sk-container-id-1 input.sk-toggleable__control:checked~label.sk-toggleable__label-arrow:before {content: \"▾\";}#sk-container-id-1 div.sk-estimator input.sk-toggleable__control:checked~label.sk-toggleable__label {background-color: #d4ebff;}#sk-container-id-1 div.sk-label input.sk-toggleable__control:checked~label.sk-toggleable__label {background-color: #d4ebff;}#sk-container-id-1 input.sk-hidden--visually {border: 0;clip: rect(1px 1px 1px 1px);clip: rect(1px, 1px, 1px, 1px);height: 1px;margin: -1px;overflow: hidden;padding: 0;position: absolute;width: 1px;}#sk-container-id-1 div.sk-estimator {font-family: monospace;background-color: #f0f8ff;border: 1px dotted black;border-radius: 0.25em;box-sizing: border-box;margin-bottom: 0.5em;}#sk-container-id-1 div.sk-estimator:hover {background-color: #d4ebff;}#sk-container-id-1 div.sk-parallel-item::after {content: \"\";width: 100%;border-bottom: 1px solid gray;flex-grow: 1;}#sk-container-id-1 div.sk-label:hover label.sk-toggleable__label {background-color: #d4ebff;}#sk-container-id-1 div.sk-serial::before {content: \"\";position: absolute;border-left: 1px solid gray;box-sizing: border-box;top: 0;bottom: 0;left: 50%;z-index: 0;}#sk-container-id-1 div.sk-serial {display: flex;flex-direction: column;align-items: center;background-color: white;padding-right: 0.2em;padding-left: 0.2em;position: relative;}#sk-container-id-1 div.sk-item {position: relative;z-index: 1;}#sk-container-id-1 div.sk-parallel {display: flex;align-items: stretch;justify-content: center;background-color: white;position: relative;}#sk-container-id-1 div.sk-item::before, #sk-container-id-1 div.sk-parallel-item::before {content: \"\";position: absolute;border-left: 1px solid gray;box-sizing: border-box;top: 0;bottom: 0;left: 50%;z-index: -1;}#sk-container-id-1 div.sk-parallel-item {display: flex;flex-direction: column;z-index: 1;position: relative;background-color: white;}#sk-container-id-1 div.sk-parallel-item:first-child::after {align-self: flex-end;width: 50%;}#sk-container-id-1 div.sk-parallel-item:last-child::after {align-self: flex-start;width: 50%;}#sk-container-id-1 div.sk-parallel-item:only-child::after {width: 0;}#sk-container-id-1 div.sk-dashed-wrapped {border: 1px dashed gray;margin: 0 0.4em 0.5em 0.4em;box-sizing: border-box;padding-bottom: 0.4em;background-color: white;}#sk-container-id-1 div.sk-label label {font-family: monospace;font-weight: bold;display: inline-block;line-height: 1.2em;}#sk-container-id-1 div.sk-label-container {text-align: center;}#sk-container-id-1 div.sk-container {/* jupyter's `normalize.less` sets `[hidden] { display: none; }` but bootstrap.min.css set `[hidden] { display: none !important; }` so we also need the `!important` here to be able to override the default hidden behavior on the sphinx rendered scikit-learn.org. See: https://github.com/scikit-learn/scikit-learn/issues/21755 */display: inline-block !important;position: relative;}#sk-container-id-1 div.sk-text-repr-fallback {display: none;}</style><div id=\"sk-container-id-1\" class=\"sk-top-container\"><div class=\"sk-text-repr-fallback\"><pre>GridSearchCV(cv=3,\n",
       "             estimator=&lt;keras.wrappers.scikit_learn.KerasClassifier object at 0x000002182B5BED90&gt;,\n",
       "             param_grid={&#x27;dropout_rate&#x27;: [0.2, 0.3, 0.4],\n",
       "                         &#x27;units&#x27;: [64, 128, 256]})</pre><b>In a Jupyter environment, please rerun this cell to show the HTML representation or trust the notebook. <br />On GitHub, the HTML representation is unable to render, please try loading this page with nbviewer.org.</b></div><div class=\"sk-container\" hidden><div class=\"sk-item sk-dashed-wrapped\"><div class=\"sk-label-container\"><div class=\"sk-label sk-toggleable\"><input class=\"sk-toggleable__control sk-hidden--visually\" id=\"sk-estimator-id-1\" type=\"checkbox\" ><label for=\"sk-estimator-id-1\" class=\"sk-toggleable__label sk-toggleable__label-arrow\">GridSearchCV</label><div class=\"sk-toggleable__content\"><pre>GridSearchCV(cv=3,\n",
       "             estimator=&lt;keras.wrappers.scikit_learn.KerasClassifier object at 0x000002182B5BED90&gt;,\n",
       "             param_grid={&#x27;dropout_rate&#x27;: [0.2, 0.3, 0.4],\n",
       "                         &#x27;units&#x27;: [64, 128, 256]})</pre></div></div></div><div class=\"sk-parallel\"><div class=\"sk-parallel-item\"><div class=\"sk-item\"><div class=\"sk-label-container\"><div class=\"sk-label sk-toggleable\"><input class=\"sk-toggleable__control sk-hidden--visually\" id=\"sk-estimator-id-2\" type=\"checkbox\" ><label for=\"sk-estimator-id-2\" class=\"sk-toggleable__label sk-toggleable__label-arrow\">estimator: KerasClassifier</label><div class=\"sk-toggleable__content\"><pre>&lt;keras.wrappers.scikit_learn.KerasClassifier object at 0x000002182B5BED90&gt;</pre></div></div></div><div class=\"sk-serial\"><div class=\"sk-item\"><div class=\"sk-estimator sk-toggleable\"><input class=\"sk-toggleable__control sk-hidden--visually\" id=\"sk-estimator-id-3\" type=\"checkbox\" ><label for=\"sk-estimator-id-3\" class=\"sk-toggleable__label sk-toggleable__label-arrow\">KerasClassifier</label><div class=\"sk-toggleable__content\"><pre>&lt;keras.wrappers.scikit_learn.KerasClassifier object at 0x000002182B5BED90&gt;</pre></div></div></div></div></div></div></div></div></div></div>"
      ],
      "text/plain": [
       "GridSearchCV(cv=3,\n",
       "             estimator=<keras.wrappers.scikit_learn.KerasClassifier object at 0x000002182B5BED90>,\n",
       "             param_grid={'dropout_rate': [0.2, 0.3, 0.4],\n",
       "                         'units': [64, 128, 256]})"
      ]
     },
     "execution_count": 23,
     "metadata": {},
     "output_type": "execute_result"
    }
   ],
   "source": [
    "# Melakukan penyetelan parameter pada data latih\n",
    "grid_search.fit(X_train_pad, y_train)"
   ]
  },
  {
   "cell_type": "code",
   "execution_count": 24,
   "id": "ea41dcd0-ca50-4863-aafd-8b843f5d6e3d",
   "metadata": {},
   "outputs": [
    {
     "name": "stdout",
     "output_type": "stream",
     "text": [
      "Best Parameters: {'dropout_rate': 0.2, 'units': 64}\n",
      "Best Accuracy: 0.5967652797698975\n"
     ]
    }
   ],
   "source": [
    "# Menampilkan hasil terbaik\n",
    "print(\"Best Parameters:\", grid_search.best_params_)\n",
    "print(\"Best Accuracy:\", grid_search.best_score_)"
   ]
  },
  {
   "cell_type": "code",
   "execution_count": 25,
   "id": "f5e6af30-d97e-4095-ac00-acfdbfbd519f",
   "metadata": {},
   "outputs": [
    {
     "name": "stdout",
     "output_type": "stream",
     "text": [
      "Epoch 1/10\n",
      "460/460 [==============================] - 29s 59ms/step - loss: 0.6734 - accuracy: 0.5953\n",
      "Epoch 2/10\n",
      "460/460 [==============================] - 29s 63ms/step - loss: 0.6713 - accuracy: 0.5970\n",
      "Epoch 3/10\n",
      "460/460 [==============================] - 28s 61ms/step - loss: 0.6707 - accuracy: 0.5974\n",
      "Epoch 4/10\n",
      "460/460 [==============================] - 28s 61ms/step - loss: 0.6701 - accuracy: 0.5976\n",
      "Epoch 5/10\n",
      "460/460 [==============================] - 28s 62ms/step - loss: 0.6692 - accuracy: 0.5976\n",
      "Epoch 6/10\n",
      "460/460 [==============================] - 28s 62ms/step - loss: 0.6690 - accuracy: 0.5979\n",
      "Epoch 7/10\n",
      "460/460 [==============================] - 29s 62ms/step - loss: 0.6688 - accuracy: 0.5975\n",
      "Epoch 8/10\n",
      "460/460 [==============================] - 28s 62ms/step - loss: 0.6678 - accuracy: 0.5984\n",
      "Epoch 9/10\n",
      "460/460 [==============================] - 28s 62ms/step - loss: 0.6671 - accuracy: 0.5994\n",
      "Epoch 10/10\n",
      "460/460 [==============================] - 28s 61ms/step - loss: 0.6660 - accuracy: 0.5990\n",
      "115/115 [==============================] - 3s 26ms/step - loss: 0.6733 - accuracy: 0.5894\n",
      "Test Accuracy with Best Parameters: 0.5894021987915039\n"
     ]
    }
   ],
   "source": [
    "# Membuat model Keras dengan parameter terbaik\n",
    "best_units = grid_search.best_params_['units']\n",
    "best_dropout_rate = grid_search.best_params_['dropout_rate']\n",
    "\n",
    "best_model = create_model(units=best_units, dropout_rate=best_dropout_rate)\n",
    "\n",
    "# Melatih model dengan seluruh data latih\n",
    "best_model.fit(X_train_pad, y_train, epochs=10, batch_size=32)\n",
    "\n",
    "# Evaluasi model pada data uji\n",
    "loss, accuracy = best_model.evaluate(X_test_pad, y_test)\n",
    "print(\"Test Accuracy with Best Parameters:\", accuracy)"
   ]
  }
 ],
 "metadata": {
  "kernelspec": {
   "display_name": "Python 3 (ipykernel)",
   "language": "python",
   "name": "python3"
  },
  "language_info": {
   "codemirror_mode": {
    "name": "ipython",
    "version": 3
   },
   "file_extension": ".py",
   "mimetype": "text/x-python",
   "name": "python",
   "nbconvert_exporter": "python",
   "pygments_lexer": "ipython3",
   "version": "3.11.2"
  }
 },
 "nbformat": 4,
 "nbformat_minor": 5
}
